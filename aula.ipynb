{
 "cells": [
  {
   "cell_type": "markdown",
   "metadata": {},
   "source": [
    "# PROGRAMAÇÃO DE INTERFACES COM PYTHON - TKINTER"
   ]
  },
  {
   "cell_type": "markdown",
   "metadata": {},
   "source": [
    "## 1. Introdução (15 minutos)\n",
    "\n",
    "**Objetivo:** Apresentar o conceito de interfaces gráficas e a importância do Tkinter.\n",
    "\n",
    "O que são GUIs?\n",
    "\n",
    "- Interfaces Gráficas de Usuário (GUI) permitem interação visual com programas.\n",
    "\n",
    "- Exemplos: Janelas, botões, campos de texto, menus.\n",
    "\n",
    "Por que Tkinter?\n",
    "\n",
    "- Biblioteca padrão do Python para criação de GUIs.\n",
    "\n",
    "- Multiplataforma (Windows, Linux, macOS).\n",
    "\n",
    "- Simplicidade e integração com Python."
   ]
  },
  {
   "cell_type": "markdown",
   "metadata": {},
   "source": [
    "## 2. Configuração Inicial (10 minutos)\n",
    "\n",
    "**Objetivo:** Garantir que todos tenham o ambiente configurado.\n",
    "\n",
    "Pré-requisitos:\n",
    "\n",
    "- Python instalado (versão 3.x recomendada).\n",
    "\n",
    "- Tkinter já vem com a instalação padrão do Python.\n",
    "\n",
    "Verificação:"
   ]
  },
  {
   "cell_type": "code",
   "execution_count": 1,
   "metadata": {},
   "outputs": [
    {
     "name": "stdout",
     "output_type": "stream",
     "text": [
      "3840\n"
     ]
    }
   ],
   "source": [
    "import tkinter as tk\n",
    "print(tk.Tk().winfo_screenwidth())  # Verifica largura da tela"
   ]
  },
  {
   "cell_type": "markdown",
   "metadata": {},
   "source": [
    "## 3. Componentes Básicos do Tkinter (40 minutos)\n",
    "\n",
    "**Objetivo:** Ensinar a criar janelas e widgets básicos.\n",
    "\n",
    "A. Criando uma Janela Básica"
   ]
  },
  {
   "cell_type": "code",
   "execution_count": null,
   "metadata": {},
   "outputs": [],
   "source": [
    "import tkinter as tk\n",
    "\n",
    "# Cria a janela principal\n",
    "janela = tk.Tk()\n",
    "janela.title(\"Minha Primeira GUI\")\n",
    "janela.geometry(\"400x300\")  # Largura x Altura\n",
    "\n",
    "# Mantém a janela aberta\n",
    "janela.mainloop()"
   ]
  },
  {
   "cell_type": "markdown",
   "metadata": {},
   "source": [
    "B. Adicionando Widgets\n",
    "Widget: Label (Rótulo) - Código Completo"
   ]
  },
  {
   "cell_type": "code",
   "execution_count": null,
   "metadata": {},
   "outputs": [],
   "source": [
    "import tkinter as tk\n",
    "\n",
    "janela = tk.Tk()\n",
    "janela.title(\"Exemplo Label\")\n",
    "janela.geometry(\"400x300\")\n",
    "\n",
    "# Cria um rótulo\n",
    "label = tk.Label(janela, text=\"Olá, Tkinter!\", font=(\"Arial\", 14))\n",
    "label.pack(pady=20)  # Adiciona à janela com espaçamento vertical\n",
    "\n",
    "janela.mainloop()"
   ]
  },
  {
   "cell_type": "markdown",
   "metadata": {},
   "source": [
    "Widget: Button (Botão) - Código Completo"
   ]
  },
  {
   "cell_type": "code",
   "execution_count": 4,
   "metadata": {},
   "outputs": [
    {
     "name": "stdout",
     "output_type": "stream",
     "text": [
      "Botão clicado!\n",
      "Botão clicado!\n",
      "Botão clicado!\n",
      "Botão clicado!\n",
      "Botão clicado!\n",
      "Botão clicado!\n"
     ]
    }
   ],
   "source": [
    "import tkinter as tk\n",
    "\n",
    "# Função para o comando do botão\n",
    "def clique_botao():\n",
    "    print(\"Botão clicado!\")\n",
    "\n",
    "janela = tk.Tk()\n",
    "janela.title(\"Exemplo Botão\")\n",
    "janela.geometry(\"400x300\")\n",
    "\n",
    "# Cria um botão\n",
    "botao = tk.Button(janela, text=\"Clique Aqui\", command=clique_botao)\n",
    "botao.pack(pady=50)\n",
    "\n",
    "janela.mainloop()"
   ]
  },
  {
   "cell_type": "markdown",
   "metadata": {},
   "source": [
    "Widget: Entry (Campo de Entrada) - Código Completo"
   ]
  },
  {
   "cell_type": "code",
   "execution_count": 5,
   "metadata": {},
   "outputs": [],
   "source": [
    "import tkinter as tk\n",
    "\n",
    "janela = tk.Tk()\n",
    "janela.title(\"Exemplo Entry\")\n",
    "janela.geometry(\"400x200\")\n",
    "\n",
    "# Cria um campo de entrada\n",
    "entrada = tk.Entry(janela, width=30)\n",
    "entrada.pack(pady=20)\n",
    "\n",
    "janela.mainloop()"
   ]
  },
  {
   "cell_type": "markdown",
   "metadata": {},
   "source": [
    "## 4. Layout e Gerenciadores (20 minutos)\n",
    "\n",
    "**Objetivo:** Mostrar como organizar widgets na janela.\n",
    "\n",
    "Gerenciador: pack() - Código Completo"
   ]
  },
  {
   "cell_type": "code",
   "execution_count": 6,
   "metadata": {},
   "outputs": [],
   "source": [
    "import tkinter as tk\n",
    "\n",
    "janela = tk.Tk()\n",
    "janela.title(\"Exemplo Pack\")\n",
    "janela.geometry(\"400x200\")\n",
    "\n",
    "# Botões organizados com pack()\n",
    "botao1 = tk.Button(janela, text=\"Botão 1\")\n",
    "botao1.pack(side=\"left\", padx=10)  # Alinha à esquerda\n",
    "\n",
    "botao2 = tk.Button(janela, text=\"Botão 2\")\n",
    "botao2.pack(side=\"right\", padx=10)  # Alinha à direita\n",
    "\n",
    "janela.mainloop()"
   ]
  },
  {
   "cell_type": "markdown",
   "metadata": {},
   "source": [
    "Gerenciador: grid() - Código Completo"
   ]
  },
  {
   "cell_type": "code",
   "execution_count": 7,
   "metadata": {},
   "outputs": [],
   "source": [
    "import tkinter as tk\n",
    "\n",
    "janela = tk.Tk()\n",
    "janela.title(\"Exemplo Grid\")\n",
    "janela.geometry(\"300x150\")\n",
    "\n",
    "# Label e Entry organizados com grid()\n",
    "label_usuario = tk.Label(janela, text=\"Usuário:\")\n",
    "label_usuario.grid(row=0, column=0, padx=10, pady=10)  # Linha 0, Coluna 0\n",
    "\n",
    "entry_usuario = tk.Entry(janela)\n",
    "entry_usuario.grid(row=0, column=1, padx=10, pady=10)  # Linha 0, Coluna 1\n",
    "\n",
    "label_senha = tk.Label(janela, text=\"Senha:\")\n",
    "label_senha.grid(row=1, column=0, padx=10, pady=10)  # Linha 1, Coluna 0\n",
    "\n",
    "entry_senha = tk.Entry(janela, show=\"*\")\n",
    "entry_senha.grid(row=1, column=1, padx=10, pady=10)  # Linha 1, Coluna 1\n",
    "\n",
    "janela.mainloop()"
   ]
  },
  {
   "cell_type": "markdown",
   "metadata": {},
   "source": [
    "Gerenciador: place() - Código Completo"
   ]
  },
  {
   "cell_type": "code",
   "execution_count": 8,
   "metadata": {},
   "outputs": [],
   "source": [
    "import tkinter as tk\n",
    "\n",
    "janela = tk.Tk()\n",
    "janela.title(\"Exemplo Place\")\n",
    "janela.geometry(\"400x300\")\n",
    "\n",
    "# Botão posicionado em coordenadas específicas\n",
    "botao_custom = tk.Button(janela, text=\"Clique Aqui\")\n",
    "botao_custom.place(x=150, y=100)  # Posição (150, 100)\n",
    "\n",
    "janela.mainloop()"
   ]
  },
  {
   "cell_type": "markdown",
   "metadata": {},
   "source": [
    "## 5. Eventos e Interatividade (25 minutos)\n",
    "\n",
    "**Objetivo:** Demonstrar como responder a ações do usuário.\n",
    "\n",
    "Exemplo Completo: Botão + Entry + Label"
   ]
  },
  {
   "cell_type": "code",
   "execution_count": 9,
   "metadata": {},
   "outputs": [],
   "source": [
    "import tkinter as tk\n",
    "\n",
    "def exibir_texto():\n",
    "    texto = entrada.get()\n",
    "    label_resultado.config(text=texto)  # Atualiza o rótulo\n",
    "\n",
    "janela = tk.Tk()\n",
    "janela.title(\"Interatividade\")\n",
    "janela.geometry(\"400x200\")\n",
    "\n",
    "# Campo de entrada\n",
    "entrada = tk.Entry(janela, width=30)\n",
    "entrada.pack(pady=20)\n",
    "\n",
    "# Botão para exibir texto\n",
    "botao = tk.Button(janela, text=\"Exibir Texto\", command=exibir_texto)\n",
    "botao.pack()\n",
    "\n",
    "# Rótulo para mostrar o resultado\n",
    "label_resultado = tk.Label(janela, text=\"\")\n",
    "label_resultado.pack(pady=10)\n",
    "\n",
    "janela.mainloop()"
   ]
  },
  {
   "cell_type": "markdown",
   "metadata": {},
   "source": [
    "Exemplo Completo: Evento de Mouse"
   ]
  },
  {
   "cell_type": "code",
   "execution_count": 10,
   "metadata": {},
   "outputs": [
    {
     "name": "stdout",
     "output_type": "stream",
     "text": [
      "Clique em (314, 180)\n",
      "Clique em (97, 69)\n",
      "Clique em (108, 170)\n",
      "Clique em (242, 29)\n",
      "Clique em (51, 251)\n"
     ]
    }
   ],
   "source": [
    "import tkinter as tk\n",
    "\n",
    "def evento_clique(event):\n",
    "    print(f\"Clique em ({event.x}, {event.y})\")  # Exibe coordenadas\n",
    "\n",
    "janela = tk.Tk()\n",
    "janela.title(\"Evento de Mouse\")\n",
    "janela.geometry(\"400x300\")\n",
    "\n",
    "# Vincula o clique do botão esquerdo à função\n",
    "janela.bind(\"<Button-1>\", evento_clique)\n",
    "\n",
    "janela.mainloop()"
   ]
  },
  {
   "cell_type": "markdown",
   "metadata": {},
   "source": [
    "## 6. Componentes Avançados (20 minutos)\n",
    "\n",
    "**Objetivo:** Introduzir widgets mais complexos.\n",
    "\n",
    "Widget: Messagebox - Código Completo"
   ]
  },
  {
   "cell_type": "code",
   "execution_count": 1,
   "metadata": {},
   "outputs": [],
   "source": [
    "import tkinter as tk\n",
    "from tkinter import messagebox\n",
    "\n",
    "def mostrar_alerta():\n",
    "    messagebox.showinfo(\"Informação\", \"Operação concluída!\")  # Diálogo de informação\n",
    "\n",
    "janela = tk.Tk()\n",
    "janela.title(\"Exemplo Messagebox\")\n",
    "janela.geometry(\"300x150\")\n",
    "\n",
    "botao_alerta = tk.Button(janela, text=\"Mostrar Alerta\", command=mostrar_alerta)\n",
    "botao_alerta.pack(pady=50)\n",
    "\n",
    "janela.mainloop()"
   ]
  },
  {
   "cell_type": "markdown",
   "metadata": {},
   "source": [
    "Widgets: Checkbutton e Radiobutton - Código Completo"
   ]
  },
  {
   "cell_type": "code",
   "execution_count": 2,
   "metadata": {},
   "outputs": [],
   "source": [
    "import tkinter as tk\n",
    "\n",
    "janela = tk.Tk()\n",
    "janela.title(\"Checkbutton e Radiobutton\")\n",
    "janela.geometry(\"300x200\")\n",
    "\n",
    "# Checkbutton\n",
    "check_var = tk.BooleanVar()\n",
    "check = tk.Checkbutton(janela, text=\"Aceitar termos\", variable=check_var)\n",
    "check.pack(pady=10)\n",
    "\n",
    "# Radiobuttons\n",
    "radio_var = tk.StringVar()\n",
    "radio1 = tk.Radiobutton(janela, text=\"Opção 1\", variable=radio_var, value=\"1\")\n",
    "radio2 = tk.Radiobutton(janela, text=\"Opção 2\", variable=radio_var, value=\"2\")\n",
    "radio1.pack()\n",
    "radio2.pack()\n",
    "\n",
    "janela.mainloop()"
   ]
  },
  {
   "cell_type": "markdown",
   "metadata": {},
   "source": [
    "## 7. Atividade Prática (30 minutos)\n",
    "\n",
    "**Objetivo:** Criar uma aplicação de login.\n",
    "\n",
    "Código Completo:"
   ]
  },
  {
   "cell_type": "code",
   "execution_count": null,
   "metadata": {},
   "outputs": [],
   "source": [
    "import tkinter as tk\n",
    "from tkinter import messagebox\n",
    "\n",
    "def verificar_login():\n",
    "    usuario = entry_user.get()\n",
    "    senha = entry_pass.get()\n",
    "    if usuario == \"admin\" and senha == \"123\":\n",
    "        messagebox.showinfo(\"Sucesso\", \"Login realizado!\")\n",
    "    else:\n",
    "        messagebox.showerror(\"Erro\", \"Credenciais inválidas!\")\n",
    "\n",
    "janela = tk.Tk()\n",
    "janela.title(\"Login\")\n",
    "janela.geometry(\"300x150\")\n",
    "\n",
    "# Labels e Entradas\n",
    "tk.Label(janela, text=\"Usuário:\").grid(row=0, column=0, padx=10, pady=5)\n",
    "entry_user = tk.Entry(janela)\n",
    "entry_user.grid(row=0, column=1, padx=10, pady=5)\n",
    "\n",
    "tk.Label(janela, text=\"Senha:\").grid(row=1, column=0, padx=10, pady=5)\n",
    "entry_pass = tk.Entry(janela, show=\"*\")\n",
    "entry_pass.grid(row=1, column=1, padx=10, pady=5)\n",
    "\n",
    "# Botão de Login\n",
    "botao_login = tk.Button(janela, text=\"Entrar\", command=verificar_login)\n",
    "botao_login.grid(row=2, columnspan=2, pady=10)\n",
    "\n",
    "janela.mainloop()"
   ]
  },
  {
   "cell_type": "markdown",
   "metadata": {},
   "source": [
    "## 8. Aplicações Avançadas (90 minutos)\n",
    "**Objetivo:** Explorar projetos práticos para consolidar conceitos avançados."
   ]
  },
  {
   "cell_type": "markdown",
   "metadata": {},
   "source": [
    "### A. Calculadora Básica\n",
    "**Conceitos Abordados:** Grid layout, manipulação de estados, eventos dinâmicos."
   ]
  },
  {
   "cell_type": "code",
   "execution_count": null,
   "metadata": {},
   "outputs": [],
   "source": [
    "import tkinter as tk\n",
    "\n",
    "def atualizar_display(valor):\n",
    "    display.insert(tk.END, valor)\n",
    "\n",
    "def calcular():\n",
    "    try:\n",
    "        expressao = display.get()\n",
    "        resultado = eval(expressao)\n",
    "        display.delete(0, tk.END)\n",
    "        display.insert(0, resultado)\n",
    "    except:\n",
    "        display.delete(0, tk.END)\n",
    "        display.insert(0, \"Erro!\")\n",
    "\n",
    "def limpar():\n",
    "    display.delete(0, tk.END)\n",
    "\n",
    "# Configuração da janela\n",
    "janela = tk.Tk()\n",
    "janela.title(\"Calculadora\")\n",
    "janela.geometry(\"300x400\")\n",
    "\n",
    "# Display\n",
    "display = tk.Entry(janela, font=(\"Arial\", 18), justify=\"right\")\n",
    "display.grid(row=0, column=0, columnspan=4, padx=10, pady=10, sticky=\"nsew\")\n",
    "\n",
    "# Botões\n",
    "botoes = [\n",
    "    ('7', 1, 0), ('8', 1, 1), ('9', 1, 2), ('/', 1, 3),\n",
    "    ('4', 2, 0), ('5', 2, 1), ('6', 2, 2), ('*', 2, 3),\n",
    "    ('1', 3, 0), ('2', 3, 1), ('3', 3, 2), ('-', 3, 3),\n",
    "    ('0', 4, 0), ('.', 4, 1), ('=', 4, 2), ('+', 4, 3)\n",
    "]\n",
    "\n",
    "for texto, linha, coluna in botoes:\n",
    "    if texto == '=':\n",
    "        botao = tk.Button(janela, text=texto, command=calcular, bg=\"#4CAF50\", fg=\"white\")\n",
    "    elif texto == 'C':\n",
    "        botao = tk.Button(janela, text=texto, command=limpar, bg=\"#f44336\", fg=\"white\")\n",
    "    else:\n",
    "        botao = tk.Button(janela, text=texto, command=lambda v=texto: atualizar_display(v))\n",
    "    botao.grid(row=linha, column=coluna, padx=5, pady=5, sticky=\"nsew\")\n",
    "\n",
    "# Botão de limpar (C)\n",
    "botao_limpar = tk.Button(janela, text=\"C\", command=limpar, bg=\"#f44336\", fg=\"white\")\n",
    "botao_limpar.grid(row=5, column=0, columnspan=4, padx=5, pady=5, sticky=\"nsew\")\n",
    "\n",
    "# Ajustar tamanho das linhas/colunas\n",
    "for i in range(5):\n",
    "    janela.rowconfigure(i, weight=1)\n",
    "    janela.columnconfigure(i, weight=1)\n",
    "\n",
    "janela.mainloop()"
   ]
  },
  {
   "cell_type": "markdown",
   "metadata": {},
   "source": [
    "### B. Aplicativo de Desenho com Canvas\n",
    "**Conceitos Abordados:** Canvas, eventos de mouse, coordenadas."
   ]
  },
  {
   "cell_type": "markdown",
   "metadata": {},
   "source": []
  }
 ],
 "metadata": {
  "kernelspec": {
   "display_name": "Python 3",
   "language": "python",
   "name": "python3"
  },
  "language_info": {
   "codemirror_mode": {
    "name": "ipython",
    "version": 3
   },
   "file_extension": ".py",
   "mimetype": "text/x-python",
   "name": "python",
   "nbconvert_exporter": "python",
   "pygments_lexer": "ipython3",
   "version": "3.10.12"
  }
 },
 "nbformat": 4,
 "nbformat_minor": 2
}
